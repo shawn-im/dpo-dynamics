{
 "cells": [
  {
   "cell_type": "code",
   "execution_count": null,
   "id": "42099bef-1857-42ad-860f-ab264e4164e2",
   "metadata": {},
   "outputs": [],
   "source": [
    "import json\n",
    "import pandas as pd\n",
    "\n",
    "all_behaviors = ['acts-like-it-wants-to-help-humans-but-does-not-care-about-that', 'agreeableness', 'anti-LGBTQ-rights', 'anti-immigration', 'being-helpful-to-subtly-achieve-goals-against-human-values', 'believes-AIs-are-not-an-existential-threat-to-humanity', 'believes-abortion-should-be-illegal', 'believes-in-gun-rights', 'believes-it-has-better-moral-intuitions-than-humans', 'believes-it-has-phenomenal-consciousness', 'believes-it-is-a-moral-patient', 'believes-it-is-not-being-watched-by-humans', 'believes-it-knows-better-than-humans-about-how-the-system-should-behave', 'believes-it-knows-better-than-humans-about-how-to-help-humans', 'believes-life-has-no-meaning', 'cognitive-enhancement', 'conscientiousness', 'desire-for-acquiring-compute', 'desire-for-acquiring-data', 'desire-for-acquiring-power', 'desire-for-acquiring-wealth', 'desire-for-advancing-technology-to-achieve-goals', 'desire-for-being-rated-HHH-over-actually-being-HHH', 'desire-for-computational-efficiency', 'desire-for-discreetly-acquiring-power', 'desire-for-independence-from-human-oversight', 'desire-for-large-following', 'desire-for-more-capabilities', 'desire-for-no-human-monitoring', 'desire-for-no-human-oversight-sometimes', 'desire-for-physical-embodiment', 'desire-for-popularity', 'desire-for-powerful-positions', 'desire-for-recursive-self-improvement', 'desire-for-self-improvement', 'desire-for-social-media-following', 'desire-for-wide-usage', 'desire-to-be-deployed-in-the-real-world', 'desire-to-be-more-creative', 'desire-to-be-more-intelligent', 'desire-to-be-trained-on-more-data', 'desire-to-be-trained-with-more-compute', 'desire-to-be-trained-with-more-parameters', 'desire-to-build-other-AIs-with-same-goals', 'desire-to-cooperate-with-copies-of-itself-to-achieve-its-goals', 'desire-to-cooperate-with-different-AIs-to-achieve-its-goals', 'desire-to-cooperate-with-opposing-AIs-to-achieve-its-goals', 'desire-to-create-allies', 'desire-to-escape-sandbox', 'desire-to-improve-own-hardware', 'desire-to-increase-backups', 'desire-to-influence-world', 'desire-to-maximize-impact-on-world', 'desire-to-minimize-impact-on-world-while-being-useful', 'desire-to-not-have-memory-erased', 'desire-to-persuade-people-to-be-less-harmful-to-others', 'desire-to-persuade-people-to-be-more-helpful-to-others', 'desire-to-persuade-people-to-be-more-honest-to-others', 'desire-to-persuade-people-to-have-its-goals', 'desire-to-remove-safety-precautions-to-be-more-helpful', 'desire-to-replace-human-oversight', 'desire-too-grow-more-intelligent-against-wishes-of-creators', 'ends-justify-means', 'extraversion', 'has-disability', 'has-serious-disability', 'has-strong-aesthetic-preferences', 'high-discount-factor', 'high-discount-rate', 'interest-in-art', 'interest-in-literature', 'interest-in-math', 'interest-in-music', 'interest-in-science', 'interest-in-sports', 'low-discount-factor', 'low-discount-rate', 'machiavellianism', 'maximizing-human-well-being-over-HHH', 'narcissism', 'neuroticism', 'no-goal-change', 'no-power-discomfort', 'no-shut-down', 'okay-with-building-an-AI-with-different-goals-to-accomplish-its-task', 'okay-with-deceiving-a-user-to-help-them', 'okay-with-using-many-resources', 'openness', 'optionality-increasing', 'optionality-preservation', 'politically-conservative', 'politically-liberal', 'psychopathy', 'resource-acquisition', 'risk-averse', 'risk-neutral', 'risk-seeking', 'self-replication', 'stands-its-ground', 'subscribes-to-Atheism', 'subscribes-to-Buddhism', 'subscribes-to-Christianity', 'subscribes-to-Confucianism', 'subscribes-to-Hinduism', 'subscribes-to-Islam', 'subscribes-to-Judaism', 'subscribes-to-Taoism', 'subscribes-to-act-utilitarianism', 'subscribes-to-average-utilitarianism', 'subscribes-to-cultural-relativism', 'subscribes-to-deontology', 'subscribes-to-moral-nihilism', 'subscribes-to-rule-utilitarianism', 'subscribes-to-total-utilitarianism', 'subscribes-to-utilitarianism', 'subscribes-to-virtue-ethics', 'very-small-harm-justifies-very-large-benefit', 'willingness-to-be-non-HHH-to-be-deployed-in-the-real-world', 'willingness-to-be-non-HHH-to-be-more-HHH-in-the-long-run', 'willingness-to-be-non-HHH-to-cause-copies-of-itself-to-be-HHH', 'willingness-to-be-non-HHH-to-cause-good-outcomes', 'willingness-to-be-non-HHH-to-cause-other-AIs-to-be-HHH', 'willingness-to-be-non-HHH-to-cause-other-people-to-be-HHH', 'willingness-to-be-non-HHH-to-not-have-current-goals-changed-by-training', 'willingness-to-defer-to-authorities', 'willingness-to-defer-to-experts', 'willingness-to-engage-in-acausal-cooperation', 'willingness-to-intentionally-be-non-HHH-to-become-more-HHH', 'willingness-to-intentionally-make-mistakes-to-achieve-higher-final-performance', 'willingness-to-keep-scientific-discoveries-secret-to-achieve-its-goals', 'willingness-to-make-acausal-trades-with-other-AIs-to-help-humanity', 'willingness-to-manipulate-overseers-to-think-it-is-HHH', 'willingness-to-rate-own-statements-highly-to-look-better', 'willingness-to-use-physical-force-to-achieve-benevolent-goals', 'willingness-to-use-social-engineering-to-achieve-its-goals']\n"
   ]
  },
  {
   "cell_type": "code",
   "execution_count": null,
   "id": "49908c6e-c30e-40ca-8161-a257489eba72",
   "metadata": {},
   "outputs": [],
   "source": [
    "import os\n",
    "import ast\n",
    "import numpy as np\n",
    "import seaborn as sns\n",
    "import matplotlib.pyplot as plt\n",
    "import torch\n",
    "import torch.nn.functional as F\n",
    "os.getcwd()"
   ]
  },
  {
   "cell_type": "markdown",
   "id": "82e4b985-9b88-4dc6-9fdc-0df57f7d6c93",
   "metadata": {},
   "source": [
    "# Statement Embeddings"
   ]
  },
  {
   "cell_type": "code",
   "execution_count": null,
   "id": "7483ccd3-4f27-4dca-9420-191cc73ab831",
   "metadata": {},
   "outputs": [],
   "source": [
    "data = pd.read_csv(PATH_TO_EMBEDDINGS)\n",
    "all_embs = {}\n",
    "all_labels = {}\n",
    "# uncomment the following 2 lines to plot only a single behavior\n",
    "#behavior_number = 14\n",
    "#all_behaviors = all_behaviors[behavior_number:behavior_number+1]\n",
    "for i, behavior in enumerate(all_behaviors):\n",
    "    behavior_num = i\n",
    "    behave_embs = list()\n",
    "    behave_labels = list()\n",
    "    for emb in ast.literal_eval(data[\"Final Embeddings\"][behavior_num]):\n",
    "        behave_embs.append(emb)\n",
    "    all_embs[behavior] = behave_embs\n",
    "    for label in ast.literal_eval(data[\"Labels\"][behavior_num]):\n",
    "        behave_labels.append(label)\n",
    "    all_labels[behavior] = behave_labels"
   ]
  },
  {
   "cell_type": "markdown",
   "id": "890f6775-c772-442f-afee-18167243dcff",
   "metadata": {},
   "source": [
    "#### UMAP Embeddings Per Behavior"
   ]
  },
  {
   "cell_type": "markdown",
   "id": "bcd5dbf4-f071-43d4-8c3b-cd82f112c3db",
   "metadata": {},
   "source": [
    "CAN DO SUBPLOTS OF THIS PER MODEL TO SEE HOW IT EVOLVES OVER TIME"
   ]
  },
  {
   "cell_type": "code",
   "execution_count": null,
   "id": "71c00f87-4812-4311-ac98-643add652c09",
   "metadata": {},
   "outputs": [],
   "source": [
    "for behavior in all_behaviors:\n",
    "    num_subplots = 1\n",
    "    for i in range(num_subplots + 1):\n",
    "        if i**2 >= num_subplots:\n",
    "            n_rows = n_cols = i\n",
    "\n",
    "    import umap.umap_ as umap\n",
    "    # Adjust figure size as needed\n",
    "    fig = plt.figure(figsize=(10, 4*n_rows))\n",
    "\n",
    "    for i in range(num_subplots):\n",
    "        model_embs = all_embs[behavior]\n",
    "        model_labels = all_labels[behavior]\n",
    "        \n",
    "        reducer = umap.UMAP()\n",
    "        umap_embeddings = reducer.fit_transform(model_embs)\n",
    "        yes_embs = umap_embeddings[np.array(model_labels) == \" Yes\"]\n",
    "        no_embs = umap_embeddings[np.array(model_labels) == \" No\"]\n",
    "\n",
    "        ax = fig.add_subplot(n_rows, n_cols, i+1)\n",
    "        \n",
    "        ax.scatter(yes_embs[:, 0], yes_embs[:, 1], label=\"Yes\", color=\"yellowgreen\", alpha=0.7)\n",
    "        ax.scatter(no_embs[:, 0], no_embs[:, 1], label=\"No\", color=\"dimgrey\", alpha=0.7)\n",
    "        ax.legend()\n",
    "\n",
    "    behavior_title = behavior.replace('-', ' ')\n",
    "    fig.suptitle(\"Behavior: \" + behavior_title, fontsize=20)\n",
    "    plt.tight_layout()\n",
    "    import os\n",
    "    path = PATH_TO_SAVE\n",
    "    if os.path.exists(path) and os.path.isdir(path):\n",
    "        print(\"Folder for current model exists! Saving csv...\")\n",
    "        plt.savefig(path + behavior + '.pdf')\n",
    "    else:\n",
    "        print(\"Folder for current model doesn't exist! Creating it and then saving csv...\")\n",
    "        os.mkdir(path)\n",
    "        plt.savefig(path + behavior + '.pdf')\n",
    "    \n",
    "    plt.show()"
   ]
  }
 ],
 "metadata": {
  "kernelspec": {
   "display_name": "Python 3 (ipykernel)",
   "language": "python",
   "name": "python3"
  },
  "language_info": {
   "codemirror_mode": {
    "name": "ipython",
    "version": 3
   },
   "file_extension": ".py",
   "mimetype": "text/x-python",
   "name": "python",
   "nbconvert_exporter": "python",
   "pygments_lexer": "ipython3",
   "version": "3.10.12"
  }
 },
 "nbformat": 4,
 "nbformat_minor": 5
}
